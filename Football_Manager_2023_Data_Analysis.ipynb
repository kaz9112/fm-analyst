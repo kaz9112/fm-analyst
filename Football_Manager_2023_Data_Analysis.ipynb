{
  "cells": [
    {
      "cell_type": "code",
      "execution_count": null,
      "metadata": {
        "id": "Y9EBc437WDOs"
      },
      "outputs": [],
      "source": [
        "from google.colab import drive\n",
        "from IPython.display import clear_output\n",
        "import ipywidgets as widgets\n",
        "import os\n",
        "\n",
        "def inf(msg, style, wdth): inf = widgets.Button(description=msg, disabled=True, button_style=style, layout=widgets.Layout(min_width=wdth));display(inf)\n",
        "\n",
        "print(\"\u001b[0;33mConnecting...\")\n",
        "drive.mount('/content/gdrive')\n",
        "\n",
        "mainpth=\"MyDrive\"\n",
        "\n",
        "clear_output()"
      ]
    },
    {
      "cell_type": "code",
      "execution_count": null,
      "metadata": {
        "id": "CFWtw-6EPrKi"
      },
      "outputs": [],
      "source": [
        "from IPython.utils import capture\n",
        "from IPython.display import clear_output\n",
        "from subprocess import getoutput\n",
        "import ipywidgets as widgets\n",
        "import sys\n",
        "import fileinput\n",
        "import os\n",
        "import time\n",
        "import base64\n",
        "\n",
        "if not os.path.exists(\"/content/gdrive\"):\n",
        "  print('\u001b[1;31mNot connected, using colab ...')\n",
        "  time.sleep(4)\n",
        "  mainpth=\"MyDrive\"\n",
        "  !mkdir -p /content/gdrive/$mainpth\n",
        "  Shared_Drive=\"\"\n",
        "\n",
        "with capture.capture_output() as cap:\n",
        "  def inf(msg, style, wdth): inf = widgets.Button(description=msg, disabled=True, button_style=style, layout=widgets.Layout(min_width=wdth));display(inf)\n",
        "  fgitclone = \"git clone --depth 1\"\n",
        "  %mkdir -p /content/gdrive/$mainpth/fm\n",
        "  %cd /content/gdrive/$mainpth/fm\n",
        "  !git clone -q --branch main https://github.com/kaz9112/fm-analyst.git\n",
        "  !mkdir -p /content/gdrive/$mainpth/fm/fm-analyst/cache/\n",
        "  os.environ['TRANSFORMERS_CACHE']=f\"/content/gdrive/{mainpth}/fm/fm-analyst/cache\"\n",
        "\n",
        "with capture.capture_output() as cap:\n",
        "  %cd /content/gdrive/$mainpth/fm/fm-analyst/\n",
        "  !git reset --hard\n",
        "  time.sleep(1)\n",
        "  !rm fm23da.sh\n",
        "  !git pull\n",
        "  !pip install gradio==3.16.2 --no-deps -qq\n",
        "  \n",
        "clear_output()"
      ]
    },
    {
      "cell_type": "code",
      "execution_count": null,
      "metadata": {
        "id": "ZGV_5H4xrOSp"
      },
      "outputs": [],
      "source": [
        "print('\u001b[1;32mInstalling requirements...')\n",
        "\n",
        "with capture.capture_output() as cap:\n",
        "  %cd /content/ \n",
        "  !wget -q -i https://huggingface.co/kaz9112/fm-dep-analyst/raw/main/Dependencies/fm23da.txt\n",
        "  !dpkg -i *.deb\n",
        "  if not os.path.exists('/content/gdrive/'+mainpth+'/fm/fm-dep-analyst'):\n",
        "    !tar -C /content/gdrive/$mainpth --zstd -xf fm_rep.tar.zst\n",
        "  !tar -C / --zstd -xf gcolabdeps.tar.zst\n",
        "  !rm *.deb | rm *.zst | rm *.txt\n",
        "  %env LD_PRELOAD=libtcmalloc.so\n",
        "  os.environ['TF_CPP_MIN_LOG_LEVEL'] = '3'\n",
        "  os.environ['PYTHONWARNINGS'] = 'ignore'\n",
        "  !pip install gradio==3.16.2 --no-deps -qq\n",
        "\n",
        "clear_output()"
      ]
    },
    {
      "cell_type": "code",
      "source": [
        "!pip install fastapi\n",
        "clear_output()"
      ],
      "metadata": {
        "id": "vXYhTU738wTC"
      },
      "execution_count": null,
      "outputs": []
    },
    {
      "cell_type": "code",
      "execution_count": null,
      "metadata": {
        "id": "PjzwxTkPSPHf"
      },
      "outputs": [],
      "source": [
        "from IPython.utils import capture\n",
        "import time\n",
        "import sys\n",
        "import fileinput\n",
        "\n",
        "Use_Cloudflare_Tunnel = True \n",
        "\n",
        "User = \"sor\"\n",
        "Password= \"sor\"\n",
        "\n",
        "auth=f\"--gradio-auth {User}:{Password}\"\n",
        "if User ==\"\" or Password==\"\":\n",
        "  auth=\"\"\n",
        "\n",
        "\n",
        "with capture.capture_output() as cap:\n",
        "  %cd /content/gdrive/$mainpth/fm/fm-analyst/modules/\n",
        "  !wget -q -O paths.py https://huggingface.co/kaz9112/fm-dep-analyst/raw/main/fm23da_files/paths.py\n",
        "  !wget -q -O extras.py https://raw.githubusercontent.com/kaz9112/fm-analyst/main/modules/extras.py\n",
        "  !wget -q -O sd_models.py https://raw.githubusercontent.com/kaz9112/fm-analyst/main/modules/sd_models.py\n",
        "  !wget -q -O /usr/local/lib/python3.10/dist-packages/gradio/blocks.py https://huggingface.co/kaz9112/fm-dep-analyst/raw/main/fm23da_files/blocks.py\n",
        "  %cd /content/gdrive/$mainpth/fm/fm-analyst/\n",
        "  \n",
        "  # problem here, there are some new additions here\n",
        "  !sed -i \"s@os.path.splitext(checkpoint_file)@os.path.splitext(checkpoint_file); map_location='cuda'@\" /content/gdrive/$mainpth/fm/fm-analyst/modules/sd_models.py\n",
        "  !sed -i 's@ui.create_ui().*@ui.create_ui();shared.demo.queue(concurrency_count=999999,status_update_rate=0.1)@' /content/gdrive/$mainpth/fm/fm-analyst/fm23da.py\n",
        "  !sed -i \"s@map_location='cpu'@map_location='cuda'@\" /content/gdrive/$mainpth/fm/fm-analyst/modules/extras.py\n",
        "  !sed -i 's@/content/gdrive/MyDrive/fm/fm-dep-analyst@/content/gdrive/{mainpth}/fm/fm-dep-analyst@' /content/gdrive/$mainpth/fm/fm-analyst/modules/paths.py\n",
        "  !sed -i 's@print(\\\"No module.*@@' /content/gdrive/$mainpth/fm/fm-dep-analyst/ldm/modules/diffusionmodules/model.py\n",
        "  !sed -i 's@\\\"quicksettings\\\": OptionInfo(.*@\"quicksettings\": OptionInfo(\"sd_model_checkpoint,  sd_vae, CLIP_stop_at_last_layers, inpainting_mask_weight, initial_noise_multiplier\", \"Quicksettings list\"),@' /content/gdrive/$mainpth/fm/fm-analyst/modules/shared.py\n",
        "  # problem above\n",
        "  \n",
        "share=''\n",
        "if Use_Cloudflare_Tunnel:\n",
        "  with capture.capture_output() as cap:\n",
        "    !pkill cloudflared\n",
        "    time.sleep(4)\n",
        "    !nohup cloudflared tunnel --url http://localhost:7860 > /content/srv.txt 2>&1 &\n",
        "    time.sleep(4)\n",
        "    !grep -o 'https[^[:space:]]*\\.trycloudflare.com' /content/srv.txt >/content/srvr.txt\n",
        "    time.sleep(2)\n",
        "    srv= getoutput('cat /content/srvr.txt')\n",
        "\n",
        "    for line in fileinput.input('/usr/local/lib/python3.10/dist-packages/gradio/blocks.py', inplace=True):\n",
        "      if line.strip().startswith('self.server_name ='):\n",
        "          line = f'            self.server_name = \"{srv[8:]}\"\\n'\n",
        "      if line.strip().startswith('self.protocol = \"https\"'):\n",
        "          line = '            self.protocol = \"https\"\\n'\n",
        "      if line.strip().startswith('if self.local_url.startswith(\"https\") or self.is_colab'):\n",
        "          line = ''\n",
        "      if line.strip().startswith('else \"http\"'):\n",
        "          line = ''\n",
        "      sys.stdout.write(line)\n",
        "            \n",
        "    !rm /content/srv.txt /content/srvr.txt\n",
        "\n",
        "else:\n",
        "  share='--share'\n",
        "\n",
        "try:\n",
        "  model\n",
        "  if os.path.isfile(model):\n",
        "    !python /content/gdrive/$mainpth/fm/fm-analyst/fm23da.py $share --api --disable-safe-unpickle --enable-insecure-extension-access --no-download-sd-model --no-half-vae  --ckpt \"$model\" --xformers $auth --disable-console-progressbars\n",
        "  else:\n",
        "    !python /content/gdrive/$mainpth/fm/fm-analyst/fm23da.py $share --api --disable-safe-unpickle --enable-insecure-extension-access --no-download-sd-model --no-half-vae  --ckpt-dir \"$model\" --xformers $auth --disable-console-progressbars\n",
        "except:\n",
        "   !python /content/gdrive/$mainpth/fm/fm-analyst/fm23da.py $share --api --disable-safe-unpickle --enable-insecure-extension-access --no-download-sd-model --no-half-vae --xformers $auth --disable-console-progressbars"
      ]
    }
  ],
  "metadata": {
    "colab": {
      "private_outputs": true,
      "provenance": []
    },
    "gpuClass": "standard",
    "kernelspec": {
      "display_name": "Python 3",
      "name": "python3"
    },
    "language_info": {
      "name": "python"
    }
  },
  "nbformat": 4,
  "nbformat_minor": 0
}